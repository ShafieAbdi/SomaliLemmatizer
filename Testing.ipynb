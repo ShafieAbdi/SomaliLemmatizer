{
 "cells": [
  {
   "cell_type": "markdown",
   "metadata": {},
   "source": [
    "## how to use Algorithm"
   ]
  },
  {
   "cell_type": "code",
   "execution_count": 1,
   "metadata": {},
   "outputs": [],
   "source": [
    "#import Lemmatizer method from Som_Lemmatization module\n",
    "from Som_Lemmatization import Lemmatizer"
   ]
  },
  {
   "cell_type": "markdown",
   "metadata": {},
   "source": [
    "### Demonistration Text"
   ]
  },
  {
   "cell_type": "markdown",
   "metadata": {},
   "source": [
    "### Normat Text/Sentence"
   ]
  },
  {
   "cell_type": "code",
   "execution_count": 2,
   "metadata": {},
   "outputs": [],
   "source": [
    "text='''\n",
    "wiilkii waa dhameeyey shaqadii loo diray saaxiibkiis ayaana ka caawiyey.\n",
    "'''"
   ]
  },
  {
   "cell_type": "markdown",
   "metadata": {},
   "source": [
    "### CSV file, for now reading from data folder"
   ]
  },
  {
   "cell_type": "code",
   "execution_count": 23,
   "metadata": {},
   "outputs": [],
   "source": [
    "import pandas as pd\n",
    "df = pd.read_csv('Data/Extractnews.csv')"
   ]
  },
  {
   "cell_type": "markdown",
   "metadata": {},
   "source": [
    "### Testing normal or csv depends on which variable you provide into Lemmatizer <ins>Method* as below"
   ]
  },
  {
   "cell_type": "code",
   "execution_count": 3,
   "metadata": {
    "scrolled": false
   },
   "outputs": [
    {
     "name": "stdout",
     "output_type": "stream",
     "text": [
      "#############Resolved words#############\n",
      "dir\n",
      "wiil\n",
      "saaxiib\n",
      "shaqee\n",
      "caawi\n",
      "dhamee\n",
      "+---------------------------+--------+\n",
      "| Origin Docs size in words | 11     |\n",
      "+---------------------------+--------+\n",
      "| stop Words(non-unique)    | 4      |\n",
      "+---------------------------+--------+\n",
      "| special characters        | 1      |\n",
      "+---------------------------+--------+\n",
      "| Unresolved words          | 0      |\n",
      "+---------------------------+--------+\n",
      "| Resolved words            | 6      |\n",
      "+---------------------------+--------+\n",
      "| percent found             | 100.0% |\n",
      "+---------------------------+--------+\n",
      "| words from lexicon        | 5      |\n",
      "+---------------------------+--------+\n",
      "| words from rule based     | 1      |\n",
      "+---------------------------+--------+\n",
      "###### Displaying Unresolved Word ######\n",
      "5\n",
      "1\n",
      "0\n",
      "  Time taken :  0:00:00.008976\n"
     ]
    }
   ],
   "source": [
    "Lemmatizer(text)"
   ]
  },
  {
   "cell_type": "code",
   "execution_count": null,
   "metadata": {},
   "outputs": [],
   "source": []
  }
 ],
 "metadata": {
  "kernelspec": {
   "display_name": "Python 3",
   "language": "python",
   "name": "python3"
  },
  "language_info": {
   "codemirror_mode": {
    "name": "ipython",
    "version": 3
   },
   "file_extension": ".py",
   "mimetype": "text/x-python",
   "name": "python",
   "nbconvert_exporter": "python",
   "pygments_lexer": "ipython3",
   "version": "3.8.5"
  }
 },
 "nbformat": 4,
 "nbformat_minor": 4
}
